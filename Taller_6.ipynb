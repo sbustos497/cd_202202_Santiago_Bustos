{
  "nbformat": 4,
  "nbformat_minor": 0,
  "metadata": {
    "colab": {
      "provenance": [],
      "authorship_tag": "ABX9TyP4T6LkW9LzJmPMWQXnWCgJ",
      "include_colab_link": true
    },
    "kernelspec": {
      "name": "python3",
      "display_name": "Python 3"
    },
    "language_info": {
      "name": "python"
    }
  },
  "cells": [
    {
      "cell_type": "markdown",
      "metadata": {
        "id": "view-in-github",
        "colab_type": "text"
      },
      "source": [
        "<a href=\"https://colab.research.google.com/github/sbustos497/cd_202202_Santiago_Bustos/blob/master/Taller_6.ipynb\" target=\"_parent\"><img src=\"https://colab.research.google.com/assets/colab-badge.svg\" alt=\"Open In Colab\"/></a>"
      ]
    },
    {
      "cell_type": "code",
      "execution_count": null,
      "metadata": {
        "id": "64WHedHYj_va"
      },
      "outputs": [],
      "source": [
        "import math"
      ]
    },
    {
      "cell_type": "code",
      "source": [
        "def distancia(x,y):\n",
        "  return math.sqrt(x**2+y**2)"
      ],
      "metadata": {
        "id": "2aUm3alakCpS"
      },
      "execution_count": null,
      "outputs": []
    },
    {
      "cell_type": "code",
      "source": [
        "cont = 0\n",
        "puntoslado = 10000\n",
        "paso = 1/(puntoslado-1)\n",
        "\n",
        "i = 0\n",
        "while i<=1:\n",
        "  j=0\n",
        "  while j<=1:\n",
        "    if distancia(i, j)<=1:\n",
        "      cont += 1\n",
        "    j+=paso\n",
        "  i+= paso\n",
        "\n",
        "print(\"Puntos:\", cont)\n",
        "print(\"Estimación de pi: \", (cont * 4 / (puntoslado**2)))"
      ],
      "metadata": {
        "colab": {
          "base_uri": "https://localhost:8080/"
        },
        "id": "3RmIkhDEkVLp",
        "outputId": "7929ba64-cd1f-4c04-c8ad-218ef55039d5"
      },
      "execution_count": null,
      "outputs": [
        {
          "output_type": "stream",
          "name": "stdout",
          "text": [
            "Puntos: 78534021\n",
            "Estimación de pi:  3.14136084\n"
          ]
        }
      ]
    },
    {
      "cell_type": "markdown",
      "source": [
        "### Taller 6"
      ],
      "metadata": {
        "id": "yD2aa5JquQwZ"
      }
    },
    {
      "cell_type": "code",
      "source": [
        "import random \n",
        "\n",
        "intervalo= 1000\n",
        "\n",
        "circle_points=0\n",
        "square_points=0\n",
        "\n",
        "for i in range (intervalo**2):\n",
        "  rand_x=random.uniform(-1,1)\n",
        "  rand_y=random.uniform(-1,1)\n",
        "\n",
        "  origin_dist=distancia(rand_x,rand_y)\n",
        "\n",
        "  if origin_dist <= 1:\n",
        "    circle_points += 1\n",
        "  square_points+=1\n",
        "\n",
        "  pi = 4*circle_points/square_points\n",
        "\n",
        "print(\"Puntos:\", square_points)\n",
        "print(\"Estimacion de pi:\", pi)"
      ],
      "metadata": {
        "id": "33IdQgyduQJB",
        "outputId": "ea3b0e71-cb91-47a8-b48f-66d64697219c",
        "colab": {
          "base_uri": "https://localhost:8080/"
        }
      },
      "execution_count": 37,
      "outputs": [
        {
          "output_type": "stream",
          "name": "stdout",
          "text": [
            "Puntos: 1000000\n",
            "Estimacion de pi: 3.138236\n"
          ]
        }
      ]
    }
  ]
}